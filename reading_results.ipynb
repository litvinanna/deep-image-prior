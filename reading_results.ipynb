{
 "cells": [
  {
   "cell_type": "code",
   "execution_count": 27,
   "metadata": {},
   "outputs": [],
   "source": [
    "import pyBigWig\n",
    "import numpy as np"
   ]
  },
  {
   "cell_type": "code",
   "execution_count": 28,
   "metadata": {},
   "outputs": [],
   "source": [
    "#файл с треком генома человека сборка 38\n",
    "track_file = \"/Users/pochtalionizm/Projects/neuro/data/hg38.phastCons20way.bw\""
   ]
  },
  {
   "cell_type": "code",
   "execution_count": 29,
   "metadata": {},
   "outputs": [
    {
     "data": {
      "text/plain": [
       "242193529"
      ]
     },
     "execution_count": 29,
     "metadata": {},
     "output_type": "execute_result"
    }
   ],
   "source": [
    "bw = pyBigWig.open(track_file)\n",
    "bw.chroms()\n",
    "bw.chroms(\"chr2\")"
   ]
  },
  {
   "cell_type": "code",
   "execution_count": 30,
   "metadata": {},
   "outputs": [
    {
     "name": "stdout",
     "output_type": "stream",
     "text": [
      "['2019-02-24_18:08:04\\n', 'skip_depth6,reflection,net,adam,noise,32,0.01,0.03,4001,True,646788\\n', '0500000_006000000_2.5-2.7_47561_NC_000002.12_Homo_sapiens_chromosome_2,_GRCh38.p12_Primary_Assembly\\n']\n"
     ]
    }
   ],
   "source": [
    "#загрузка нужных результатов предсказания\n",
    "path = \"/Users/pochtalionizm/Projects/neuro/results/2019-02-24_18:08:04_2.5-2.7_NC_000002.12_Homo\"\n",
    "seq_np = np.load(path + \"/seq_np.npy\")\n",
    "mask = np.load(path + \"/mask.npy\")\n",
    "out_np = np.load(path + \"/04000_out_np.npy\")\n",
    "info = open(path + \"/info.txt\")\n",
    "print(info.readlines())\n",
    "info.close()"
   ]
  },
  {
   "cell_type": "code",
   "execution_count": 31,
   "metadata": {},
   "outputs": [
    {
     "data": {
      "text/plain": [
       "500000"
      ]
     },
     "execution_count": 31,
     "metadata": {},
     "output_type": "execute_result"
    }
   ],
   "source": [
    "#выбор нужной части генома \n",
    "track_part = bw.values(\"chr2\", 6000000, 6500000, numpy = True)\n",
    "len(track_part)"
   ]
  },
  {
   "cell_type": "code",
   "execution_count": 32,
   "metadata": {},
   "outputs": [],
   "source": [
    "#функция сравнения\n",
    "def compare(seq_np, out_np):\n",
    "    if len(seq_np) != len(out_np):\n",
    "        print(\"error\")\n",
    "        return None\n",
    "    \n",
    "    length = len(seq_np[0])\n",
    "\n",
    "    out_array = np.zeros((4,length)) #array analog to seq_np\n",
    "    for i in range(length):\n",
    "        n = np.argmax(out_np[:, i])\n",
    "        out_array[n, i] = 1\n",
    "            \n",
    "    diff = np.zeros(length)\n",
    "    for i in range(length):\n",
    "        a = out_array[:, i]\n",
    "        b = seq_np[:, i]\n",
    "        diff[i] = np.linalg.norm(a-b)\n",
    "    return diff"
   ]
  },
  {
   "cell_type": "code",
   "execution_count": 33,
   "metadata": {},
   "outputs": [],
   "source": [
    "#возвращает массив расстояний между исходником и предсказанием\n",
    "diff = compare(seq_np, out_np)"
   ]
  },
  {
   "cell_type": "code",
   "execution_count": 34,
   "metadata": {},
   "outputs": [
    {
     "name": "stdout",
     "output_type": "stream",
     "text": [
      "seq length 500000\n",
      "mistakes 346624\n"
     ]
    }
   ],
   "source": [
    "print(\"seq length\", len(diff))\n",
    "print(\"mistakes\", sum([1 for x in diff if x > 0.01]))"
   ]
  },
  {
   "cell_type": "code",
   "execution_count": 40,
   "metadata": {},
   "outputs": [
    {
     "name": "stdout",
     "output_type": "stream",
     "text": [
      "500000\n",
      "500000\n"
     ]
    }
   ],
   "source": [
    "#выбираем часть под маской\n",
    "mask_diff = []\n",
    "mask_track_part = []\n",
    "free_diff = []\n",
    "free_track_part = []\n",
    "for i in range(len(diff)):\n",
    "    if not (isinstance(diff[i], float) or isinstance(track_part[i], float)):\n",
    "        print(\"None\")\n",
    "        \n",
    "    if mask[i]==1:\n",
    "        mask_diff.append(diff[i])\n",
    "        mask_track_part.append(track_part[i])\n",
    "    else:\n",
    "        free_diff.append(diff[i])\n",
    "        free_track_part.append(track_part[i])\n",
    "\n",
    "print(len(mask_diff) + len(free_diff))\n",
    "print(len(free_track_part) + len(mask_track_part))"
   ]
  },
  {
   "cell_type": "code",
   "execution_count": 48,
   "metadata": {},
   "outputs": [
    {
     "data": {
      "text/plain": [
       "1.4142135623730951"
      ]
     },
     "execution_count": 48,
     "metadata": {},
     "output_type": "execute_result"
    }
   ],
   "source": [
    "max(free_diff)"
   ]
  },
  {
   "cell_type": "code",
   "execution_count": 72,
   "metadata": {},
   "outputs": [
    {
     "data": {
      "image/png": "[encoded data removed]",
      "text/plain": [
       "<Figure size 432x288 with 1 Axes>"
      ]
     },
     "metadata": {
      "needs_background": "light"
     },
     "output_type": "display_data"
    }
   ],
   "source": [
    "import matplotlib.pyplot as plt\n",
    "# plt.plot(free_diff, free_track_part, \"r,\")\n",
    "plt.hist2d(free_diff, free_track_part, bins = [[0, 0.1, 1.3, max(free_diff)], np.arange(0, 1, 0.1)])\n",
    "plt.title(\"dot plot 'distanse vs. conservation' on train \")\n",
    "# plt.xlabel(\"distance\")\n",
    "# plt.ylabel(\"value of conservation\")\n",
    "# plt.show()\n",
    "# plt.savefig(\"/Users/pochtalionizm/Projects/neuro/results/3/hist2d_1.png\")"
   ]
  },
  {
   "cell_type": "code",
   "execution_count": 73,
   "metadata": {},
   "outputs": [
    {
     "data": {
      "image/png": "[encoded data removed]",
      "text/plain": [
       "<Figure size 432x288 with 1 Axes>"
      ]
     },
     "metadata": {
      "needs_background": "light"
     },
     "output_type": "display_data"
    }
   ],
   "source": [
    "import matplotlib.pyplot as plt\n",
    "# plt.plot(mask_diff, mask_track_part, \"r,\")\n",
    "plt.hist2d(mask_diff, mask_track_part, bins = [[0, 0.1, 1.3, max(mask_diff)], np.arange(0, 1, 0.1)])\n",
    "plt.title(\"dot plot 'distanse vs. conservation' on test \")\n",
    "# plt.xlabel(\"distance\")\n",
    "# plt.ylabel(\"value of conservation\")\n",
    "# plt.show()\n",
    "# plt.savefig(\"/Users/pochtalionizm/Projects/neuro/results/3/hist2d_2.png\")"
   ]
  },
  {
   "cell_type": "code",
   "execution_count": 58,
   "metadata": {},
   "outputs": [
    {
     "name": "stdout",
     "output_type": "stream",
     "text": [
      "14484\n",
      "47561\n"
     ]
    },
    {
     "data": {
      "image/png": "[encoded data removed]",
      "text/plain": [
       "<Figure size 432x288 with 1 Axes>"
      ]
     },
     "metadata": {
      "needs_background": "light"
     },
     "output_type": "display_data"
    }
   ],
   "source": [
    "track_mask_for_small_d = [mask_track_part[i] for i in range(len(mask_diff)) if mask_diff[i]-0.0<0.1 ]\n",
    "track_mask_for_big_d = [mask_track_part[i] for i in range(len(mask_diff)) if mask_diff[i]-1.4<0.1 ]\n",
    "print(len(track_mask_for_small_d ))\n",
    "print(len(track_mask_for_big_d))\n",
    "plt.hist([track_mask_for_small_d , track_mask_for_big_d ], color = ['green', 'blue'], density = True)\n",
    "plt.title(\"\")\n",
    "plt.show()"
   ]
  },
  {
   "cell_type": "code",
   "execution_count": 63,
   "metadata": {},
   "outputs": [
    {
     "name": "stdout",
     "output_type": "stream",
     "text": [
      "138892\n",
      "452439\n"
     ]
    },
    {
     "data": {
      "image/png": "[encoded data removed]",
      "text/plain": [
       "<Figure size 432x288 with 1 Axes>"
      ]
     },
     "metadata": {
      "needs_background": "light"
     },
     "output_type": "display_data"
    }
   ],
   "source": [
    "track_free_for_small_d = [free_track_part[i] for i in range(len(free_track_part)) if free_diff[i]-0.0<0.1 ]\n",
    "track_free_for_big_d = [free_track_part[i] for i in range(len(free_track_part)) if free_diff[i]-1.4<0.1 ]\n",
    "print(len(track_free_for_small_d))\n",
    "print(len(track_free_for_big_d))\n",
    "plt.hist([track_free_for_small_d, track_free_for_big_d, track_part], color = ['green', 'blue', \"red\"], density = True)\n",
    "plt.show()"
   ]
  },
  {
   "cell_type": "code",
   "execution_count": 75,
   "metadata": {},
   "outputs": [
    {
     "data": {
      "image/png": "[encoded data removed]",
      "text/plain": [
       "<Figure size 432x288 with 1 Axes>"
      ]
     },
     "metadata": {
      "needs_background": "light"
     },
     "output_type": "display_data"
    }
   ],
   "source": [
    "from matplotlib.patches import Rectangle\n",
    "c = ['g', 'b', 'r', 'y' , 'pink']\n",
    "plt.hist([track_free_for_small_d, track_free_for_big_d, track_mask_for_small_d, \n",
    "          track_mask_for_big_d, track_part], \n",
    "         color = c, density = True)\n",
    "\n",
    "handles = [Rectangle((0,0),1,1,color=col,ec=\"k\") for col in c]\n",
    "labels= ['train0','train1','test0', 'test1', 'all' ]\n",
    "plt.legend(handles, labels)\n",
    "plt.show()\n",
    "# plt.savefig(\"/Users/pochtalionizm/Projects/neuro/results/3/all_cons.png\")"
   ]
  },
  {
   "cell_type": "code",
   "execution_count": null,
   "metadata": {},
   "outputs": [],
   "source": []
  },
  {
   "cell_type": "code",
   "execution_count": null,
   "metadata": {},
   "outputs": [],
   "source": []
  }
 ],
 "metadata": {
  "kernelspec": {
   "display_name": "Python 3",
   "language": "python",
   "name": "python3"
  },
  "language_info": {
   "codemirror_mode": {
    "name": "ipython",
    "version": 3
   },
   "file_extension": ".py",
   "mimetype": "text/x-python",
   "name": "python",
   "nbconvert_exporter": "python",
   "pygments_lexer": "ipython3",
   "version": "3.6.8"
  }
 },
 "nbformat": 4,
 "nbformat_minor": 2
}
