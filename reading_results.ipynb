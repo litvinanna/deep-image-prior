{
 "cells": [
  {
   "cell_type": "code",
   "execution_count": 1,
   "metadata": {},
   "outputs": [],
   "source": [
    "import pyBigWig\n",
    "import numpy as np"
   ]
  },
  {
   "cell_type": "code",
   "execution_count": 2,
   "metadata": {},
   "outputs": [],
   "source": [
    "track_file = \"/Users/pochtalionizm/Projects/neuro/data/hg38.phastCons20way.bw\""
   ]
  },
  {
   "cell_type": "code",
   "execution_count": 3,
   "metadata": {},
   "outputs": [],
   "source": [
    "bw = pyBigWig.open(track_file)"
   ]
  },
  {
   "cell_type": "code",
   "execution_count": 4,
   "metadata": {},
   "outputs": [
    {
     "data": {
      "text/plain": [
       "242193529"
      ]
     },
     "execution_count": 4,
     "metadata": {},
     "output_type": "execute_result"
    }
   ],
   "source": [
    "bw.chroms()\n",
    "bw.chroms(\"chr2\")"
   ]
  },
  {
   "cell_type": "code",
   "execution_count": 5,
   "metadata": {},
   "outputs": [
    {
     "data": {
      "text/plain": [
       "2000"
      ]
     },
     "execution_count": 5,
     "metadata": {},
     "output_type": "execute_result"
    }
   ],
   "source": [
    "part = bw.values(\"chr2\", 6000000, 6002000, numpy = True)\n",
    "len(part)"
   ]
  },
  {
   "cell_type": "code",
   "execution_count": 6,
   "metadata": {},
   "outputs": [
    {
     "name": "stdout",
     "output_type": "stream",
     "text": [
      "['2019-02-23_16:18:26\\n', 'skip_depth6,reflection,net,adam,noise,32,0.01,0.03,51,False,646788\\n', '0002000_006000000_2.5-2.5_193_NC_000002.12_Homo\\n']\n"
     ]
    }
   ],
   "source": [
    "path = \"data/2019-02-23_16:18:26_2.5-2.5_NC_000002.12_Homo\"\n",
    "seq_np = np.load(path + \"/seq_np.npy\")\n",
    "mask = np.load(path + \"/mask.npy\")\n",
    "out_np = np.load(path + \"/00050_out_np.npy\")\n",
    "info = open(path + \"/info.txt\")\n",
    "print(info.readlines())\n",
    "info.close()"
   ]
  },
  {
   "cell_type": "code",
   "execution_count": 15,
   "metadata": {},
   "outputs": [],
   "source": [
    "def compare(seq_np, out_np):\n",
    "    if len(seq_np) != len(out_np):\n",
    "        print(\"error\")\n",
    "        return None\n",
    "    \n",
    "    length = len(seq_np[0])\n",
    "\n",
    "    out_array = np.zeros((4,length)) #array analog to seq_np\n",
    "    for i in range(length):\n",
    "        n = np.argmax(out_np[:, i])\n",
    "        out_array[n, i] = 1\n",
    "            \n",
    "    diff = np.zeros(length)\n",
    "    for i in range(length):\n",
    "        a = out_array[:, i]\n",
    "        b = seq_np[:, i]\n",
    "        diff[i] = np.linalg.norm(a-b)\n",
    "    return diff"
   ]
  },
  {
   "cell_type": "code",
   "execution_count": 16,
   "metadata": {},
   "outputs": [
    {
     "data": {
      "text/plain": [
       "564.2712113868682"
      ]
     },
     "execution_count": 16,
     "metadata": {},
     "output_type": "execute_result"
    }
   ],
   "source": [
    "diff = compare(seq_np, out_np)\n",
    "sum(diff)"
   ]
  },
  {
   "cell_type": "code",
   "execution_count": 19,
   "metadata": {},
   "outputs": [
    {
     "data": {
      "text/plain": [
       "array([0.   , 0.   , 0.   , 0.001, 0.   , 0.   , 0.   , 0.001, 0.003,\n",
       "       0.013], dtype=float32)"
      ]
     },
     "execution_count": 19,
     "metadata": {},
     "output_type": "execute_result"
    }
   ],
   "source": [
    "part[0:10]"
   ]
  },
  {
   "cell_type": "code",
   "execution_count": 18,
   "metadata": {},
   "outputs": [
    {
     "data": {
      "image/png": "[encoded data removed]",
      "text/plain": [
       "<Figure size 432x288 with 1 Axes>"
      ]
     },
     "metadata": {
      "needs_background": "light"
     },
     "output_type": "display_data"
    }
   ],
   "source": [
    "import matplotlib.pyplot as plt\n",
    "plt.plot(diff, part, \"ro\")\n",
    "plt.show()"
   ]
  },
  {
   "cell_type": "code",
   "execution_count": null,
   "metadata": {},
   "outputs": [],
   "source": []
  }
 ],
 "metadata": {
  "kernelspec": {
   "display_name": "Python 3",
   "language": "python",
   "name": "python3"
  },
  "language_info": {
   "codemirror_mode": {
    "name": "ipython",
    "version": 3
   },
   "file_extension": ".py",
   "mimetype": "text/x-python",
   "name": "python",
   "nbconvert_exporter": "python",
   "pygments_lexer": "ipython3",
   "version": "3.6.8"
  }
 },
 "nbformat": 4,
 "nbformat_minor": 2
}
