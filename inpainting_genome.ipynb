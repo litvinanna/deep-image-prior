{
 "cells": [
  {
   "cell_type": "markdown",
   "metadata": {},
   "source": [
    "**MAKING PICTURES"
   ]
  },
  {
   "cell_type": "code",
   "execution_count": 1,
   "metadata": {},
   "outputs": [],
   "source": [
    "from PIL import Image\n",
    "import PIL\n",
    "import numpy as np\n",
    "import IPython.display\n",
    "from random import randint, seed\n",
    "\n",
    "from Bio import SeqIO\n",
    "import math\n",
    "\n",
    "fasta_file = \"myco_genome.fasta\"\n",
    "\n",
    "# seq_file = \"genome.png\"\n",
    "# mask_file = \"genome_mask.png\"\n",
    "\n",
    "\n",
    "# import sys\n",
    "# stdout = sys.stdout\n",
    "# reload(sys)\n",
    "# sys.setdefaultencoding('utf-8')\n",
    "# sys.stdout = stdout"
   ]
  },
  {
   "cell_type": "code",
   "execution_count": 2,
   "metadata": {},
   "outputs": [],
   "source": [
    "#READ SEQ\n",
    "for seq_record in SeqIO.parse(fasta_file, \"fasta\"):\n",
    "    seqarray = np.asarray(seq_record.seq) \n",
    "    \n",
    "\n",
    "# n = 2 ** 14 //4\n",
    "# blocks =  [\"A\"] * n +[\"G\"] * n +[\"C\"] * n +[\"T\"] * n \n",
    "# seqarray = np.array(blocks) "
   ]
  },
  {
   "cell_type": "code",
   "execution_count": 3,
   "metadata": {},
   "outputs": [
    {
     "name": "stdout",
     "output_type": "stream",
     "text": [
      "(4399916,)\n",
      "['T' 'T' 'G' ... 'T' 'C' 'G']\n"
     ]
    }
   ],
   "source": [
    "print(seqarray.shape)\n",
    "print(seqarray)"
   ]
  },
  {
   "cell_type": "code",
   "execution_count": 4,
   "metadata": {},
   "outputs": [
    {
     "name": "stdout",
     "output_type": "stream",
     "text": [
      "16384\n"
     ]
    }
   ],
   "source": [
    "#SEQ\n",
    "\n",
    "# length = len(seqarray)\n",
    "length = 2 ** 14\n",
    "print(length)\n",
    "\n",
    "seq_np = np.zeros((4, length), dtype = np.float32)\n",
    "\n",
    "channels = {\"A\": 0, \"T\": 1, \"C\": 2, \"G\": 3}\n",
    "\n",
    "\n",
    "for index in range(length):\n",
    "    base = seqarray[index]\n",
    "    channel = channels[base]\n",
    "    seq_np[channel][index] = 1\n",
    "    \n"
   ]
  },
  {
   "cell_type": "code",
   "execution_count": 5,
   "metadata": {},
   "outputs": [
    {
     "name": "stdout",
     "output_type": "stream",
     "text": [
      "(4, 16384)\n"
     ]
    }
   ],
   "source": [
    "print(seq_np.shape)\n",
    "# print(seq_np)"
   ]
  },
  {
   "cell_type": "code",
   "execution_count": 6,
   "metadata": {},
   "outputs": [],
   "source": [
    "#MASK\n",
    "seed(7)\n",
    "mask_np = np.zeros((4, length), dtype=np.float32)\n",
    "mask_np.fill(1)\n",
    "\n",
    "length_mask = 1000\n",
    "\n",
    "for n in range(length_mask):\n",
    "    spot = 1\n",
    "    index = randint(0, length-spot)\n",
    "    for i in range(index, index+spot):\n",
    "        mask_np[:, i] = [0,0,0,0]\n"
   ]
  },
  {
   "cell_type": "code",
   "execution_count": 7,
   "metadata": {},
   "outputs": [
    {
     "name": "stdout",
     "output_type": "stream",
     "text": [
      "(4, 16384)\n"
     ]
    }
   ],
   "source": [
    "print(mask_np.shape)\n",
    "# print(mask_np)"
   ]
  },
  {
   "cell_type": "markdown",
   "metadata": {},
   "source": [
    "# Deep image prior "
   ]
  },
  {
   "cell_type": "markdown",
   "metadata": {},
   "source": [
    "## Import libs "
   ]
  },
  {
   "cell_type": "code",
   "execution_count": 8,
   "metadata": {},
   "outputs": [],
   "source": [
    "from __future__ import print_function\n",
    "import matplotlib.pyplot as plt\n",
    "%matplotlib inline\n",
    "\n",
    "import os\n",
    "# os.environ['CUDA_VISIBLE_DEVICES'] = '1'\n",
    "\n",
    "import numpy as np\n",
    "from models.resnet import ResNet\n",
    "from models.unet import UNet\n",
    "from models.skip import skip\n",
    "import torch\n",
    "import torch.optim\n",
    "\n",
    "from utils.inpainting_utils import *\n",
    "\n",
    "# torch.backends.cudnn.enabled = True\n",
    "# torch.backends.cudnn.benchmark =True\n",
    "# dtype = torch.cuda.FloatTensor\n",
    "\n",
    "torch.backends.cudnn.enabled = False\n",
    "torch.backends.cudnn.benchmark = False\n",
    "dtype = torch.FloatTensor\n",
    "\n",
    "# PLOT = True\n",
    "PLOT = False\n",
    "imsize = -1\n",
    "# dim_div_by = 64\n",
    "dim_div_by = 64"
   ]
  },
  {
   "cell_type": "markdown",
   "metadata": {},
   "source": [
    "# Setup"
   ]
  },
  {
   "cell_type": "code",
   "execution_count": 9,
   "metadata": {},
   "outputs": [],
   "source": [
    "pad = 'reflection' # 'zero'\n",
    "OPT_OVER = 'net'\n",
    "OPTIMIZER = 'adam'\n",
    "NET_TYPE = 'skip_depth6'"
   ]
  },
  {
   "cell_type": "code",
   "execution_count": null,
   "metadata": {},
   "outputs": [],
   "source": []
  },
  {
   "cell_type": "code",
   "execution_count": 10,
   "metadata": {},
   "outputs": [],
   "source": [
    "if True:\n",
    "    # Same params and net as in super-resolution and denoising\n",
    "    INPUT = 'noise'\n",
    "    input_depth = 32\n",
    "    LR = 0.01 \n",
    "    num_iter = 21\n",
    "    param_noise = False\n",
    "    show_every = 5\n",
    "    figsize = 5 #????\n",
    "    reg_noise_std = 0.03\n",
    "    \n",
    "#     net = skip(input_depth, img_np.shape[0], \n",
    "#                num_channels_down = [128] * 2,\n",
    "#                num_channels_up =   [128] * 2,\n",
    "#                num_channels_skip =    [128] * 2,  \n",
    "#                filter_size_up = 3, filter_size_down = 3, \n",
    "#                upsample_mode='nearest', filter_skip_size=1,\n",
    "#                need_sigmoid=True, need_bias=True, pad=pad, act_fun='LeakyReLU').type(dtype)\n",
    "\n",
    "    net = skip(input_depth, seq_np.shape[0], #change skip function in models/skip.py\n",
    "               num_channels_down = [128] * 3,\n",
    "               num_channels_up =   [128] * 3,\n",
    "               num_channels_skip =    [128] * 3,  \n",
    "               filter_size_up = 3, filter_size_down = 3, \n",
    "               upsample_mode='nearest', filter_skip_size=1,\n",
    "               need_sigmoid=True, need_bias=True, pad=pad, act_fun='LeakyReLU').type(dtype)\n",
    "    \n",
    "\n",
    "net = net.type(dtype) \n",
    "\n",
    "net_input = get_noise(input_depth, INPUT, seq_np.shape[1]).type(dtype) #tensor \n",
    "# print(net_input) #tensor of noise\n",
    "# print(net)# all net design"
   ]
  },
  {
   "cell_type": "code",
   "execution_count": 11,
   "metadata": {},
   "outputs": [
    {
     "name": "stdout",
     "output_type": "stream",
     "text": [
      "Number of params: 646788\n",
      "torch.Size([1, 4, 16384])\n",
      "torch.Size([1, 4, 16384])\n"
     ]
    }
   ],
   "source": [
    "# Compute number of parameters\n",
    "s  = sum(np.prod(list(p.size())) for p in net.parameters())\n",
    "print ('Number of params: %d' % s)\n",
    "\n",
    "# Loss\n",
    "mse = torch.nn.MSELoss().type(dtype)\n",
    "\n",
    "# img_var = np_to_torch(img_np).type(dtype)\n",
    "# mask_var = np_to_torch(img_mask_np).type(dtype)\n",
    "\n",
    "img_var = np_to_torch(seq_np).type(dtype)\n",
    "mask_var = np_to_torch(mask_np).type(dtype)\n",
    "\n",
    "print(img_var.shape)\n",
    "print(mask_var.shape)"
   ]
  },
  {
   "cell_type": "markdown",
   "metadata": {},
   "source": [
    "# Main loop"
   ]
  },
  {
   "cell_type": "code",
   "execution_count": 12,
   "metadata": {},
   "outputs": [],
   "source": [
    "# net(net_input)"
   ]
  },
  {
   "cell_type": "code",
   "execution_count": 13,
   "metadata": {},
   "outputs": [
    {
     "name": "stdout",
     "output_type": "stream",
     "text": [
      "Starting optimization with ADAM\n"
     ]
    },
    {
     "name": "stderr",
     "output_type": "stream",
     "text": [
      "/Users/pochtalionizm/anaconda3/lib/python3.6/site-packages/torch/nn/modules/upsampling.py:122: UserWarning: nn.Upsampling is deprecated. Use nn.functional.interpolate instead.\n",
      "  warnings.warn(\"nn.Upsampling is deprecated. Use nn.functional.interpolate instead.\")\n"
     ]
    },
    {
     "name": "stdout",
     "output_type": "stream",
     "text": [
      "Iteration 00020    Loss 0.058280 \r"
     ]
    }
   ],
   "source": [
    "from utils.inpainting_utils import *\n",
    "i = 0\n",
    "def closure():\n",
    "    \n",
    "    global i\n",
    "    \n",
    "#     if param_noise:\n",
    "#         for n in [x for x in net.parameters() if len(x.size()) == 4]:\n",
    "#             n = n + n.detach().clone().normal_() * n.std() / 50\n",
    "    \n",
    "#     net_input = net_input_saved\n",
    "#     if reg_noise_std > 0:\n",
    "#         net_input = net_input_saved + (noise.normal_() * reg_noise_std)\n",
    "        \n",
    "        \n",
    "    out = net(net_input)\n",
    "   \n",
    "    total_loss = mse(out * mask_var, img_var * mask_var)\n",
    "#     print(total_loss) #tensor\n",
    "    total_loss.backward()\n",
    "        \n",
    "    print ('Iteration %05d    Loss %f' % (i, total_loss.item()), '\\r', end='')\n",
    "#     if  PLOT and i % show_every == 0:\n",
    "#         out_np = torch_to_np(out)\n",
    "#         plot_image_grid([np.clip(out_np, 0, 1)], factor=figsize, nrow=1)\n",
    "        \n",
    "    i += 1\n",
    "\n",
    "    return total_loss\n",
    "\n",
    "\n",
    "net_input_saved = net_input.detach().clone()\n",
    "# print(net_input_saved.shape)\n",
    "noise = net_input.detach().clone()\n",
    "\n",
    "p = get_params(OPT_OVER, net, net_input) # list of tensors to optimize over !! in optimize\n",
    "\n",
    "optimize(OPTIMIZER, p, closure, LR, num_iter) # optimize is in utils/common.utils\n"
   ]
  },
  {
   "cell_type": "code",
   "execution_count": 14,
   "metadata": {},
   "outputs": [],
   "source": [
    "out_np = torch_to_np(net(net_input))\n",
    "# plot_image_grid([out_np], factor=5);"
   ]
  },
  {
   "cell_type": "code",
   "execution_count": 15,
   "metadata": {},
   "outputs": [
    {
     "name": "stdout",
     "output_type": "stream",
     "text": [
      "(4, 16384)\n"
     ]
    }
   ],
   "source": [
    "print(out_np.shape)"
   ]
  },
  {
   "cell_type": "code",
   "execution_count": 16,
   "metadata": {},
   "outputs": [],
   "source": [
    "# channels = {\"A\": 0, \"T\": 1, \"C\": 2, \"G\": 3}\n",
    "\n",
    "\n",
    "# bases = {\"A\": np.array([1, 0, 0, 0], dtype = np.float32),\n",
    "#          \"T\": np.array([0, 1, 0, 0], dtype = np.float32),\n",
    "#          \"C\": np.array([0, 0, 1, 0], dtype = np.float32),\n",
    "#          \"G\": np.array([0, 0, 0, 1], dtype = np.float32)\n",
    "#         }\n",
    "\n",
    "# np.linalg.norm(bases[\"A\"] - bases[\"G\"])"
   ]
  },
  {
   "cell_type": "code",
   "execution_count": 17,
   "metadata": {},
   "outputs": [],
   "source": [
    "channels = [\"A\", \"T\", \"C\", \"G\"]\n",
    "out_seq = np.zeros(length, dtype= \"U8\")\n",
    "for i in range(length):\n",
    "    channel = np.argmax(out_np[:, i])\n",
    "    out_seq[i] = channels[channel]   "
   ]
  },
  {
   "cell_type": "code",
   "execution_count": 18,
   "metadata": {},
   "outputs": [],
   "source": [
    "out_array = np.zeros((4,length))\n",
    "for i in range(length):\n",
    "    n = np.argmax(out_np[:, i])\n",
    "    out_array[n, i] = 1"
   ]
  },
  {
   "cell_type": "code",
   "execution_count": 19,
   "metadata": {},
   "outputs": [
    {
     "name": "stdout",
     "output_type": "stream",
     "text": [
      "True\n",
      "mask\t0.72, free\t0.12057982319292772\n"
     ]
    }
   ],
   "source": [
    "diff = np.zeros(length)\n",
    "# print(type(diff[0]))\n",
    "print(np.array_equal(out_array[:, i], seq_np[:, i]))\n",
    "\n",
    "counter = {\"all\": 0, \"mask\": 0, \"free\": 0}\n",
    "\n",
    "for i in range(length):\n",
    "    if not np.array_equal(out_array[:, i], seq_np[:, i]):\n",
    "        diff[i] = 1\n",
    "        counter[\"all\"] +=1\n",
    "        if mask_np[1, i] == 0:\n",
    "            counter[\"mask\"] += 1\n",
    "        else:\n",
    "            counter[\"free\"] += 1\n",
    "        \n",
    "print(\"mask\\t{}, free\\t{}\".format(counter['mask']/length_mask, counter[\"free\"]/(length - length_mask)))"
   ]
  },
  {
   "cell_type": "code",
   "execution_count": null,
   "metadata": {},
   "outputs": [],
   "source": []
  },
  {
   "cell_type": "code",
   "execution_count": null,
   "metadata": {},
   "outputs": [],
   "source": []
  }
 ],
 "metadata": {
  "kernelspec": {
   "display_name": "Python 3",
   "language": "python",
   "name": "python3"
  },
  "language_info": {
   "codemirror_mode": {
    "name": "ipython",
    "version": 3
   },
   "file_extension": ".py",
   "mimetype": "text/x-python",
   "name": "python",
   "nbconvert_exporter": "python",
   "pygments_lexer": "ipython3",
   "version": "3.6.6"
  }
 },
 "nbformat": 4,
 "nbformat_minor": 2
}
