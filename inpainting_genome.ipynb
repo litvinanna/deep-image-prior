{
 "cells": [
  {
   "cell_type": "markdown",
   "metadata": {},
   "source": [
    "**MAKING PICTURES"
   ]
  },
  {
   "cell_type": "code",
   "execution_count": 91,
   "metadata": {},
   "outputs": [],
   "source": [
    "from __future__ import print_function\n",
    "import matplotlib.pyplot as plt\n",
    "%matplotlib inline\n",
    "\n",
    "import os\n",
    "# os.environ['CUDA_VISIBLE_DEVICES'] = '1'\n",
    "\n",
    "import numpy as np\n",
    "from models.resnet import ResNet\n",
    "from models.unet import UNet\n",
    "from models.skip import skip\n",
    "import torch\n",
    "import torch.optim\n",
    "\n",
    "from utils.inpainting_utils import *\n",
    "\n",
    "\n",
    "        \n",
    "\n",
    "#copyed from common_utils to change here\n",
    "def optimize(optimizer_type, parameters, closure, LR, num_iter, inpaintinglog = None):\n",
    "    \"\"\"Runs optimization loop.\n",
    "\n",
    "    Args:\n",
    "        optimizer_type: 'LBFGS' of 'adam' #no change\n",
    "        parameters: list of Tensors to optimize over ## \n",
    "        closure: function, that returns loss variable #no change\n",
    "        LR: learning rate #no change\n",
    "        num_iter: number of iterations  #no change\n",
    "    \"\"\"\n",
    "    if optimizer_type == 'adam':\n",
    "        print('Starting optimization with ADAM')\n",
    "        optimizer = torch.optim.Adam(parameters, lr=LR)\n",
    "        for j in range(num_iter):\n",
    "            optimizer.zero_grad()\n",
    "#             closure()\n",
    "            closure(j, inpaintinglog)\n",
    "            optimizer.step()\n",
    "\n",
    "\n",
    "    else:\n",
    "        assert False\n",
    "\n",
    "\n",
    "def inpainting(container, cuda = False, iterations = 100):\n",
    "    \n",
    "    seq_np = container.seq_np\n",
    "    mask_np = container.mask_np\n",
    "\n",
    "    if cuda: \n",
    "        torch.backends.cudnn.enabled = True\n",
    "        torch.backends.cudnn.benchmark =True\n",
    "        dtype = torch.cuda.FloatTensor\n",
    "    else:\n",
    "        torch.backends.cudnn.enabled = False\n",
    "        torch.backends.cudnn.benchmark = False\n",
    "        dtype = torch.FloatTensor\n",
    "\n",
    "    PLOT = False\n",
    "    imsize = -1\n",
    "    dim_div_by = 64\n",
    "\n",
    "    NET_TYPE = 'skip_depth6'\n",
    "    pad = 'reflection' # 'zero'\n",
    "    OPT_OVER = 'net'\n",
    "    OPTIMIZER = 'adam'\n",
    "\n",
    "    INPUT = 'noise'\n",
    "    input_depth = 32\n",
    "    LR = 0.01 \n",
    "    num_iter = iterations\n",
    "    param_noise = False\n",
    "    show_every = 5\n",
    "    figsize = 5 #????\n",
    "    reg_noise_std = 0.03\n",
    "\n",
    "    net = skip(input_depth, seq_np.shape[0], #change skip function in models/skip.py\n",
    "               num_channels_down = [128] * 3,\n",
    "               num_channels_up =   [128] * 3,\n",
    "               num_channels_skip =    [128] * 3,  \n",
    "               filter_size_up = 3, filter_size_down = 3, \n",
    "               upsample_mode='nearest', filter_skip_size=1,\n",
    "               need_sigmoid=True, need_bias=True, pad=pad, act_fun='LeakyReLU').type(dtype)\n",
    "    \n",
    "\n",
    "    net = net.type(dtype) \n",
    "    net_input = get_noise(input_depth, INPUT, seq_np.shape[1]).type(dtype) #tensor \n",
    "\n",
    "    \n",
    "    s  = sum(np.prod(list(p.size())) for p in net.parameters())\n",
    "    print ('Number of params: %d' % s)\n",
    "    \n",
    "    inpaintinglog = Inpaintinglog()\n",
    "    inpaintinglog.add_net_parameters([NET_TYPE, pad, OPT_OVER, OPTIMIZER, INPUT, \n",
    "                                 input_depth, LR, reg_noise_std, num_iter, cuda, s])\n",
    "\n",
    "\n",
    "    # Loss\n",
    "    mse = torch.nn.MSELoss().type(dtype)\n",
    "\n",
    "    # img_var = np_to_torch(img_np).type(dtype)\n",
    "    # mask_var = np_to_torch(img_mask_np).type(dtype)\n",
    "\n",
    "    img_var = np_to_torch(seq_np).type(dtype)\n",
    "    mask_var = np_to_torch(mask_np).type(dtype)\n",
    "    \n",
    "    \n",
    "    def closure(i = None, inpaintinglog = None):\n",
    "        \n",
    "#         if i == None: use global i and i+=1\n",
    "#         global i\n",
    "    #     if param_noise:\n",
    "    #         for n in [x for x in net.parameters() if len(x.size()) == 4]:\n",
    "    #             n = n + n.detach().clone().normal_() * n.std() / 50\n",
    "\n",
    "        net_input = net_input_saved\n",
    "        if reg_noise_std > 0:\n",
    "            net_input = net_input_saved + (noise.normal_() * reg_noise_std)\n",
    "        out = net(net_input)\n",
    "  \n",
    "        total_loss = mse(out * mask_var, img_var * mask_var)\n",
    "        total_loss.backward()\n",
    "        print ('Iteration %05d    Loss %f' % (i, total_loss.item()), '\\r', end='')\n",
    "        \n",
    "        if inpaintinglog != None:\n",
    "            inpaintinglog.loss.append(total_loss)\n",
    "            if i % inpaintinglog.out_nps_every == 0:\n",
    "                inpaintinglog.out_nps.append(out)\n",
    "\n",
    "#         i += 1\n",
    "\n",
    "        return total_loss\n",
    "\n",
    "\n",
    "    net_input_saved = net_input.detach().clone()\n",
    "    noise = net_input.detach().clone()\n",
    "    p = get_params(OPT_OVER, net, net_input) # list of tensors to optimize over !! in optimize\n",
    "    optimize(OPTIMIZER, p, closure, LR, num_iter, inpaintinglog) # optimize is in utils/common.utils\n",
    "    out_np = torch_to_np(net(net_input))\n",
    "\n",
    "    \n",
    "    return out_np, inpaintinglog"
   ]
  },
  {
   "cell_type": "code",
   "execution_count": 92,
   "metadata": {},
   "outputs": [],
   "source": [
    "from PIL import Image\n",
    "import PIL\n",
    "import numpy as np\n",
    "import IPython.display\n",
    "import random \n",
    "\n",
    "from Bio import SeqIO\n",
    "import math\n",
    "from collections import Counter\n",
    "import datetime\n",
    "import time\n",
    "import matplotlib.pyplot as plt\n",
    "\n",
    "fasta_file = \"data/myco_genome.fasta\"\n",
    "local_genome = \"/Users/pochtalionizm/Projects/neuro/data/GCF_000195955.2_ASM19595v2_genomic.gbff\"\n",
    "remote_genome = \"data/myco_genome.gbff\""
   ]
  },
  {
   "cell_type": "code",
   "execution_count": 97,
   "metadata": {},
   "outputs": [],
   "source": [
    "class Inpaintinglog():\n",
    "    def __init__(self):\n",
    "        self.datetime = datetime.datetime.now().strftime(\"%Y-%m-%d_%H:%M:%S\")\n",
    "        self.loss = []\n",
    "        self.runtime = None\n",
    "        self.out_nps = []\n",
    "        self.out_nps_every = 10000\n",
    "        self.net_parameters = None\n",
    "        self.description = None\n",
    "    \n",
    "    def plot_loss(self, plot = False, length= -1, mask = -1):\n",
    "        fig = plt.plot(self.loss)\n",
    "        plt.ylabel('loss')\n",
    "        plt.xlabel('iteration')\n",
    "        plt.title(\"{}\\n{}\\n{}_{}\".format(self.datetime, self.description, str(length), str(mask)))\n",
    "        if plot:\n",
    "            plt.savefig(\"data/loss_{}.png\".format(self.datetime))\n",
    "        plt.show()\n",
    "        \n",
    "    def add_net_parameters(self, p):\n",
    "        self.net_parameters = p \n",
    "        #[NET_TYPE, pad, OPT_OVER, OPTIMIZER, INPUT, input_depth, LR, reg_noise_std, num_iter, cuda, num_parameters]\n",
    "        self.description = \"_\".join([str(x) for x in p])\n",
    "        \n",
    "    \n",
    "\n",
    "\n",
    "class Container:\n",
    "    def __init__(self):\n",
    "        self.record = None #Seq??\n",
    "        self.length = None #int\n",
    "        self.seq = None #np.array of chars\n",
    "        self.seq_np = None #np.array of [1, 0, 0, 0]\n",
    "        self.out_seq = None #np.array of chars\n",
    "        self.out_array = None #np.array of [1, 0, 0, 0]\n",
    "        \n",
    "        \n",
    "        self.bases_dict     = {\"A\": 0, \"T\": 1, \"C\": 2, \"G\": 3}\n",
    "        self.bases_list = [\"A\", \"T\", \"C\", \"G\"]\n",
    "        self.bases_np        = {\"A\": np.array([1, 0, 0, 0], dtype = np.float32),\n",
    "                             \"T\": np.array([0, 1, 0, 0], dtype = np.float32),\n",
    "                             \"C\": np.array([0, 0, 1, 0], dtype = np.float32),\n",
    "                             \"G\": np.array([0, 0, 0, 1], dtype = np.float32)\n",
    "                            }\n",
    "        self.freqs = None # dict {'A':0.34, ...}\n",
    "        self.counter = {}\n",
    "        self.inpaintinglog = None\n",
    "        print(\"container created\")\n",
    "        \n",
    "        \n",
    "    def read_seq(self, genome_file = remote_genome, genome_file_type = \"genbank\"):\n",
    "        iterator = SeqIO.parse(genome_file, genome_file_type)\n",
    "        self.record = next(iterator)\n",
    "        self.seq = np.asarray(self.record.seq) \n",
    "        \n",
    "        print(\"read seq from file {}, length = {}\".format(genome_file, len(self.record.seq)))\n",
    "    \n",
    "    def generate_seq(self, length = None):\n",
    "        if length == None:\n",
    "            length = len(self.record.seq)\n",
    "        seq_np = np.zeros((4, length), dtype = np.float32)\n",
    "        for index in range(length):\n",
    "            base = self.seq[index]\n",
    "            channel = self.bases_dict[base]\n",
    "            seq_np[channel][index] = 1\n",
    "            \n",
    "            \n",
    "        self.length = length\n",
    "        self.seq_np = seq_np\n",
    "        \n",
    "        print(\"generated seq for analysis, length = {}\".format(self.length))\n",
    "        \n",
    "    def generate_mask(self, seed=False):\n",
    "        length = self.length\n",
    "        length_mask = math.ceil(self.length * 0.1)\n",
    "        \n",
    "        if seed:\n",
    "            random.seed(7)\n",
    "        mask_np = np.zeros((4, length), dtype=np.float32)\n",
    "        mask = np.zeros(length)\n",
    "        \n",
    "        mask_np.fill(1)\n",
    "        for n in range(length_mask):\n",
    "            spot = 1\n",
    "            index = random.randint(0, length-spot)\n",
    "            for i in range(index, index+spot):\n",
    "                mask_np[:, i] = [0,0,0,0]\n",
    "                mask[i] = 1\n",
    "                \n",
    "        self.mask_np = mask_np\n",
    "        self.length_mask = int(sum(mask)) # true mask length!!\n",
    "        self.mask = mask\n",
    "\n",
    "        print(\"generated mask with {} spots of {} bp, seed {}\".format(self.length_mask, spot, seed))\n",
    "        \n",
    "    def inpaint(self, out_np = None, inpaintinglog = None):\n",
    "        if out_np is None:\n",
    "            self.out_np, self.inpaintinglog = inpainting(self)\n",
    "        else:\n",
    "            self.out_np = out_np\n",
    "            self.inpaintinglog = inpaintinglog\n",
    "            print(\"assigned inpainted array and log\")\n",
    "            \n",
    "    \n",
    "    def _get_freqs(self):\n",
    "        counter = Counter(self.seq[0:self.length])\n",
    "        self.freqs = {letter : value / self.length for (letter, value) in counter.items()}\n",
    "    \n",
    "    def _baseline(self): #count mistakes under mask if using random predictor with frequences\n",
    "        counter = 0\n",
    "        for i in range(self.length):\n",
    "            if self.mask[i] == 1: #if its under mask\n",
    "                w = [self.freqs[x] for x in self.bases_list]\n",
    "                letter = random.choices(self.bases_list, weights=w)[0]\n",
    "                if letter != self.seq[i]:\n",
    "                        counter +=1\n",
    "        return counter\n",
    "    \n",
    "    \n",
    "    def baseline(self):\n",
    "        self._get_freqs()\n",
    "        baselines = []\n",
    "        for i in range(100):\n",
    "            baselines.append(self._baseline())\n",
    "        mean = np.mean(baselines)\n",
    "        sd = np.std(baselines)\n",
    "        self.counter[\"baseline_mean\"] = mean\n",
    "        self.counter[\"baseline_sd\"] = sd\n",
    "        print(\"got baseline\")\n",
    "\n",
    "    def generate_out(self): \n",
    "        \n",
    "        out_seq = np.zeros(self.length, dtype= \"U8\")\n",
    "        for i in range(self.length):\n",
    "            channel = np.argmax(self.out_np[:, i])\n",
    "            out_seq[i] = self.bases_list[channel] \n",
    "            \n",
    "        out_array = np.zeros((4,self.length)) #array analog to seq_np\n",
    "        for i in range(self.length):\n",
    "            n = np.argmax(self.out_np[:, i])\n",
    "            out_array[n, i] = 1\n",
    "            \n",
    "        self.out_seq = out_seq\n",
    "        self.out_array = out_array\n",
    "        \n",
    "        self.coding = np.zeros(self.length)\n",
    "        for f in self.record.features:\n",
    "            if f.type == \"CDS\":\n",
    "                start = f.location.start\n",
    "                end = f.location.end\n",
    "                self.coding[start: end + 1] = 1 \n",
    "                \n",
    "        \n",
    "        \n",
    "        diff = np.zeros(self.length)\n",
    "        for i in range(self.length):\n",
    "            if not np.array_equal(self.out_array[:, i], self.seq_np[:, i]):\n",
    "                diff[i] = 1\n",
    "        self.diff = diff\n",
    "        \n",
    "        print(\"generated out arrays\")\n",
    "        \n",
    "    def generate_counter(self):\n",
    "        c = self.counter\n",
    "        c[\"all_mist\"] = sum(self.diff)\n",
    "        c[\"mask_mist\"] = sum(self.diff * self.mask)\n",
    "        c[\"free_mist\"] = sum(self.diff) - sum(self.diff * self.mask)\n",
    "        \n",
    "        if c[\"all_mist\"] != c[\"mask_mist\"] + c[\"free_mist\"]:\n",
    "            print(\"error in counter\")\n",
    "        \n",
    "        c[\"coding_mask\"] = sum(self.mask * self.coding)\n",
    "        c[\"noncoding_mask\"] = sum(self.mask) - sum(self.mask * self.coding) \n",
    "        \n",
    "        if c[\"coding_mask\"]+ c[\"noncoding_mask\"] != self.length_mask:\n",
    "            print(\"error in counter\")\n",
    "        \n",
    "        c[\"coding_mask_mist\"] = sum(self.diff * self.mask * self.coding)\n",
    "        c[\"noncoding_mask_mist\"] = sum(self.diff * self.mask) - sum(self.diff * self.mask * self.coding)\n",
    "        \n",
    "        if c[\"coding_mask_mist\"]+c[\"noncoding_mask_mist\"] != c[\"mask_mist\"]:\n",
    "            print(\"error in counter\")\n",
    "        \n",
    "        c[\"mask_part\"] = c[\"mask_mist\"] / self.length_mask\n",
    "        c[\"coding_part\"] = c[\"coding_mask_mist\"] / c[\"coding_mask\"]\n",
    "        c[\"noncoding_part\"] = c[\"noncoding_mask_mist\"] / c[\"noncoding_mask\"]\n",
    "        c[\"baseline_part\"] = c[\"baseline_mean\"] / self.length_mask\n",
    "        c[\"baseline_part_sd\"] = c[\"baseline_sd\"] / self.length_mask\n",
    "        \n",
    "        c[\"free_part\"] = c[\"free_mist\"] / (self.length - self.length_mask)\n",
    "        \n",
    "        \n",
    "        \n",
    "        print(\"generated counter\")\n",
    "    \n",
    "    \n",
    "    def print_results(self):\n",
    "        interpretation = (\"mask\\tcoding\\tnoncod\\tfreqs\\t+-\\tfree\")\n",
    "        c = self.counter\n",
    "        results = \"{:.3}\\t{:.3}\\t{:.3}\\t{:.3}\\t{:.3}\\t{:.3}\".format(c[\"mask_part\"],  c[\"coding_part\"], c[\"noncoding_part\"], \n",
    "                                                             c[\"baseline_part\"], c[\"baseline_part_sd\"], c[\"free_part\"])\n",
    "        print(interpretation)\n",
    "        print(results)\n",
    "\n",
    "#         file = open(\"data/nnet_results.txt\", \"+a\")\n",
    "#         file.write(\"#{}\\tlength\\tmask\\t{}\\n\".format(interpretation, datetime.datetime.now().strftime(\"%Y-%m-%d %H:%M:%S\")))\n",
    "#         file.write(\"{}\\t{}\\t{}\\t{}\\n\".format(results, self.length, self.length_mask, description))\n",
    "#         file.close()\n",
    "        \n",
    "        nn = self.inpaintinglog\n",
    "        \n",
    "        file = open(\"data/nnet_log.txt\", \"+a\")\n",
    "        file.write(\"#{}\\n\".format(nn.datetime, nn.description))\n",
    "        file.write(\"{}\\tlength\\tmask\\n\".format(interpretation))\n",
    "        file.write(\"{}\\t{}\\t{}\\n\".format(results, self.length, self.length_mask))\n",
    "        file.write(\"{}\\n\".format(self.counter))\n",
    "        file.close()\n",
    "    \n",
    "#         self.title = \"{}\\n{}\\t{}\\n{}\".format(datetime.datetime.now().strftime(\"%Y-%m-%d %H:%M:%S\"), self.length, self.length_mask, description)"
   ]
  },
  {
   "cell_type": "code",
   "execution_count": 98,
   "metadata": {},
   "outputs": [
    {
     "name": "stdout",
     "output_type": "stream",
     "text": [
      "container created\n",
      "read seq from file data/myco_genome.gbff, length = 4411532\n"
     ]
    }
   ],
   "source": [
    "container = Container()\n",
    "container.read_seq(remote_genome)"
   ]
  },
  {
   "cell_type": "code",
   "execution_count": 99,
   "metadata": {},
   "outputs": [
    {
     "name": "stdout",
     "output_type": "stream",
     "text": [
      "generated seq for analysis, length = 10000\n",
      "generated mask with 958 spots of 1 bp, seed True\n"
     ]
    }
   ],
   "source": [
    "container.generate_seq(length = 10000)\n",
    "container.generate_mask(seed=True)"
   ]
  },
  {
   "cell_type": "code",
   "execution_count": 100,
   "metadata": {},
   "outputs": [
    {
     "name": "stdout",
     "output_type": "stream",
     "text": [
      "Number of params: 646788\n",
      "Starting optimization with ADAM\n",
      "Iteration 00009    Loss 0.169788 \n",
      "time: 0.2s\n"
     ]
    }
   ],
   "source": [
    "start_time = time.time()\n",
    "\n",
    "i = 0\n",
    "out_np, inpaintinglog = inpainting(container, cuda=True, iterations = 10)\n",
    "\n",
    "elapsed_time = time.time() - start_time\n",
    "\n",
    "print(\"\\ntime: {:.3}s\".format(elapsed_time))"
   ]
  },
  {
   "cell_type": "code",
   "execution_count": 101,
   "metadata": {},
   "outputs": [
    {
     "name": "stdout",
     "output_type": "stream",
     "text": [
      "assigned inpainted array and log\n",
      "got baseline\n",
      "generated out arrays\n",
      "generated counter\n"
     ]
    }
   ],
   "source": [
    "container.inpaint(out_np, inpaintinglog)\n",
    "container.baseline()\n",
    "container.generate_out()\n",
    "container.generate_counter()\n"
   ]
  },
  {
   "cell_type": "code",
   "execution_count": 102,
   "metadata": {},
   "outputs": [
    {
     "name": "stdout",
     "output_type": "stream",
     "text": [
      "mask\tcoding\tnoncod\tfreqs\t+-\tfree\n",
      "0.704\t0.703\t0.711\t0.735\t0.014\t0.604\n"
     ]
    }
   ],
   "source": [
    "container.print_results()"
   ]
  },
  {
   "cell_type": "code",
   "execution_count": 103,
   "metadata": {},
   "outputs": [
    {
     "data": {
      "image/png": "[encoded data removed]",
      "text/plain": [
       "<Figure size 432x288 with 1 Axes>"
      ]
     },
     "metadata": {},
     "output_type": "display_data"
    }
   ],
   "source": [
    "container.inpaintinglog.plot_loss(False, container.length, container.length_mask)"
   ]
  },
  {
   "cell_type": "code",
   "execution_count": 84,
   "metadata": {},
   "outputs": [
    {
     "name": "stdout",
     "output_type": "stream",
     "text": [
      "[]\n"
     ]
    }
   ],
   "source": [
    "print(container.inpaintinglog.loss)"
   ]
  },
  {
   "cell_type": "code",
   "execution_count": null,
   "metadata": {},
   "outputs": [],
   "source": []
  },
  {
   "cell_type": "code",
   "execution_count": null,
   "metadata": {},
   "outputs": [],
   "source": []
  },
  {
   "cell_type": "code",
   "execution_count": null,
   "metadata": {},
   "outputs": [],
   "source": []
  },
  {
   "cell_type": "code",
   "execution_count": null,
   "metadata": {},
   "outputs": [],
   "source": []
  },
  {
   "cell_type": "code",
   "execution_count": 11,
   "metadata": {},
   "outputs": [
    {
     "name": "stdout",
     "output_type": "stream",
     "text": [
      "4411532\n"
     ]
    }
   ],
   "source": [
    "# from Bio import SeqIO\n",
    "# iterator = SeqIO.parse(remote_genome, \"genbank\")\n",
    "# record = next(iterator)\n",
    "    \n",
    "# # print(record.annotations.keys())\n",
    "# # print(record.features[0].type)\n",
    "# # print(dir(record.features[5].location))\n",
    "# # print(record.features[5].location.start)\n",
    "# # for f in record.features:\n",
    "# #     print(f.type)\n",
    "# #     print(f.location.start)\n",
    "\n",
    "# print(len(record.seq))\n"
   ]
  },
  {
   "cell_type": "code",
   "execution_count": 12,
   "metadata": {},
   "outputs": [
    {
     "name": "stdout",
     "output_type": "stream",
     "text": [
      "[0. 1. 1. 0. 0. 0. 0. 0. 0. 0.]\n"
     ]
    }
   ],
   "source": [
    "# x = np.zeros(10)\n",
    "# x[1:3] = 1\n",
    "# print(x)"
   ]
  },
  {
   "cell_type": "code",
   "execution_count": 13,
   "metadata": {},
   "outputs": [
    {
     "name": "stdout",
     "output_type": "stream",
     "text": [
      "container created\n"
     ]
    },
    {
     "ename": "KeyError",
     "evalue": "'baseline_mean'",
     "output_type": "error",
     "traceback": [
      "\u001b[0;31m---------------------------------------------------------------------------\u001b[0m",
      "\u001b[0;31mKeyError\u001b[0m                                  Traceback (most recent call last)",
      "\u001b[0;32m<ipython-input-13-f97fe585bee4>\u001b[0m in \u001b[0;36m<module>\u001b[0;34m\u001b[0m\n\u001b[1;32m      4\u001b[0m \u001b[0ma\u001b[0m\u001b[0;34m.\u001b[0m\u001b[0mcoding\u001b[0m \u001b[0;34m=\u001b[0m \u001b[0mnp\u001b[0m\u001b[0;34m.\u001b[0m\u001b[0marray\u001b[0m\u001b[0;34m(\u001b[0m\u001b[0;34m[\u001b[0m\u001b[0;36m1\u001b[0m\u001b[0;34m,\u001b[0m \u001b[0;36m0\u001b[0m\u001b[0;34m,\u001b[0m \u001b[0;36m0\u001b[0m\u001b[0;34m,\u001b[0m \u001b[0;36m0\u001b[0m\u001b[0;34m,\u001b[0m \u001b[0;36m0\u001b[0m\u001b[0;34m]\u001b[0m\u001b[0;34m)\u001b[0m\u001b[0;34m\u001b[0m\u001b[0;34m\u001b[0m\u001b[0m\n\u001b[1;32m      5\u001b[0m \u001b[0ma\u001b[0m\u001b[0;34m.\u001b[0m\u001b[0mlength_mask\u001b[0m \u001b[0;34m=\u001b[0m \u001b[0msum\u001b[0m\u001b[0;34m(\u001b[0m\u001b[0ma\u001b[0m\u001b[0;34m.\u001b[0m\u001b[0mmask\u001b[0m\u001b[0;34m)\u001b[0m\u001b[0;34m\u001b[0m\u001b[0;34m\u001b[0m\u001b[0m\n\u001b[0;32m----> 6\u001b[0;31m \u001b[0ma\u001b[0m\u001b[0;34m.\u001b[0m\u001b[0mgenerate_counter\u001b[0m\u001b[0;34m(\u001b[0m\u001b[0;34m)\u001b[0m\u001b[0;34m\u001b[0m\u001b[0;34m\u001b[0m\u001b[0m\n\u001b[0m\u001b[1;32m      7\u001b[0m \u001b[0ma\u001b[0m\u001b[0;34m.\u001b[0m\u001b[0mprint_results\u001b[0m\u001b[0;34m(\u001b[0m\u001b[0;34m)\u001b[0m\u001b[0;34m\u001b[0m\u001b[0;34m\u001b[0m\u001b[0m\n",
      "\u001b[0;32m<ipython-input-3-f1c0921f70f5>\u001b[0m in \u001b[0;36mgenerate_counter\u001b[0;34m(self)\u001b[0m\n\u001b[1;32m    156\u001b[0m         \u001b[0mc\u001b[0m\u001b[0;34m[\u001b[0m\u001b[0;34m\"coding_part\"\u001b[0m\u001b[0;34m]\u001b[0m \u001b[0;34m=\u001b[0m \u001b[0mc\u001b[0m\u001b[0;34m[\u001b[0m\u001b[0;34m\"coding_mask_mist\"\u001b[0m\u001b[0;34m]\u001b[0m \u001b[0;34m/\u001b[0m \u001b[0mc\u001b[0m\u001b[0;34m[\u001b[0m\u001b[0;34m\"coding_mask\"\u001b[0m\u001b[0;34m]\u001b[0m\u001b[0;34m\u001b[0m\u001b[0;34m\u001b[0m\u001b[0m\n\u001b[1;32m    157\u001b[0m         \u001b[0mc\u001b[0m\u001b[0;34m[\u001b[0m\u001b[0;34m\"noncoding_part\"\u001b[0m\u001b[0;34m]\u001b[0m \u001b[0;34m=\u001b[0m \u001b[0mc\u001b[0m\u001b[0;34m[\u001b[0m\u001b[0;34m\"noncoding_mask_mist\"\u001b[0m\u001b[0;34m]\u001b[0m \u001b[0;34m/\u001b[0m \u001b[0mc\u001b[0m\u001b[0;34m[\u001b[0m\u001b[0;34m\"noncoding_mask\"\u001b[0m\u001b[0;34m]\u001b[0m\u001b[0;34m\u001b[0m\u001b[0;34m\u001b[0m\u001b[0m\n\u001b[0;32m--> 158\u001b[0;31m         \u001b[0mc\u001b[0m\u001b[0;34m[\u001b[0m\u001b[0;34m\"baseline_part\"\u001b[0m\u001b[0;34m]\u001b[0m \u001b[0;34m=\u001b[0m \u001b[0mc\u001b[0m\u001b[0;34m[\u001b[0m\u001b[0;34m\"baseline_mean\"\u001b[0m\u001b[0;34m]\u001b[0m \u001b[0;34m/\u001b[0m \u001b[0mself\u001b[0m\u001b[0;34m.\u001b[0m\u001b[0mlength_mask\u001b[0m\u001b[0;34m\u001b[0m\u001b[0;34m\u001b[0m\u001b[0m\n\u001b[0m\u001b[1;32m    159\u001b[0m         \u001b[0mc\u001b[0m\u001b[0;34m[\u001b[0m\u001b[0;34m\"baseline_part_sd\"\u001b[0m\u001b[0;34m]\u001b[0m \u001b[0;34m=\u001b[0m \u001b[0mc\u001b[0m\u001b[0;34m[\u001b[0m\u001b[0;34m\"baseline_sd\"\u001b[0m\u001b[0;34m]\u001b[0m \u001b[0;34m/\u001b[0m \u001b[0mself\u001b[0m\u001b[0;34m.\u001b[0m\u001b[0mlength_mask\u001b[0m\u001b[0;34m\u001b[0m\u001b[0;34m\u001b[0m\u001b[0m\n\u001b[1;32m    160\u001b[0m \u001b[0;34m\u001b[0m\u001b[0m\n",
      "\u001b[0;31mKeyError\u001b[0m: 'baseline_mean'"
     ]
    }
   ],
   "source": []
  },
  {
   "cell_type": "code",
   "execution_count": 13,
   "metadata": {},
   "outputs": [
    {
     "data": {
      "text/plain": [
       "5"
      ]
     },
     "execution_count": 13,
     "metadata": {},
     "output_type": "execute_result"
    }
   ],
   "source": [
    "1005 % 1000"
   ]
  },
  {
   "cell_type": "code",
   "execution_count": 51,
   "metadata": {},
   "outputs": [
    {
     "ename": "IndexError",
     "evalue": "list assignment index out of range",
     "output_type": "error",
     "traceback": [
      "\u001b[0;31m---------------------------------------------------------------------------\u001b[0m",
      "\u001b[0;31mIndexError\u001b[0m                                Traceback (most recent call last)",
      "\u001b[0;32m<ipython-input-51-9ba9aa8efba9>\u001b[0m in \u001b[0;36m<module>\u001b[0;34m\u001b[0m\n\u001b[1;32m      1\u001b[0m \u001b[0mc\u001b[0m \u001b[0;34m=\u001b[0m \u001b[0;34m[\u001b[0m\u001b[0;34m]\u001b[0m\u001b[0;34m\u001b[0m\u001b[0;34m\u001b[0m\u001b[0m\n\u001b[0;32m----> 2\u001b[0;31m \u001b[0mc\u001b[0m\u001b[0;34m[\u001b[0m\u001b[0;36m0\u001b[0m\u001b[0;34m]\u001b[0m \u001b[0;34m=\u001b[0m \u001b[0;36m0\u001b[0m\u001b[0;34m\u001b[0m\u001b[0;34m\u001b[0m\u001b[0m\n\u001b[0m\u001b[1;32m      3\u001b[0m \u001b[0mprint\u001b[0m\u001b[0;34m(\u001b[0m\u001b[0mc\u001b[0m\u001b[0;34m)\u001b[0m\u001b[0;34m\u001b[0m\u001b[0;34m\u001b[0m\u001b[0m\n",
      "\u001b[0;31mIndexError\u001b[0m: list assignment index out of range"
     ]
    }
   ],
   "source": []
  },
  {
   "cell_type": "code",
   "execution_count": null,
   "metadata": {},
   "outputs": [],
   "source": []
  }
 ],
 "metadata": {
  "kernelspec": {
   "display_name": "Python 3",
   "language": "python",
   "name": "python3"
  },
  "language_info": {
   "codemirror_mode": {
    "name": "ipython",
    "version": 3
   },
   "file_extension": ".py",
   "mimetype": "text/x-python",
   "name": "python",
   "nbconvert_exporter": "python",
   "pygments_lexer": "ipython3",
   "version": "3.6.7"
  }
 },
 "nbformat": 4,
 "nbformat_minor": 2
}
